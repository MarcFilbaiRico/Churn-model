{
 "cells": [
  {
   "cell_type": "code",
   "execution_count": 62,
   "id": "61e89775",
   "metadata": {},
   "outputs": [],
   "source": [
    "import pandas as pd\n",
    "import joblib"
   ]
  },
  {
   "cell_type": "markdown",
   "id": "67976fe6",
   "metadata": {},
   "source": [
    "We import the loaded model:"
   ]
  },
  {
   "cell_type": "code",
   "execution_count": 63,
   "id": "5cb72bdd",
   "metadata": {},
   "outputs": [],
   "source": [
    "model_carregat = joblib.load('model_entrenat.pkl')"
   ]
  },
  {
   "cell_type": "markdown",
   "id": "471c2576",
   "metadata": {},
   "source": [
    "We import the data we want to input. Remember to change the filename in the code `df_nou` from `'provesentrevista.csv'` to `'yourfilename.csv'`."
   ]
  },
  {
   "cell_type": "code",
   "execution_count": null,
   "id": "907a98ee",
   "metadata": {},
   "outputs": [],
   "source": [
    "df_nou = pd.read_csv('provesentrevista.csv', sep=';')"
   ]
  },
  {
   "cell_type": "markdown",
   "id": "a9c1eeba",
   "metadata": {},
   "source": [
    "Since we've changed certain data, for the model to work correctly, we first need to process the new dataframe so it has the same columns. Let's start by changing the office to office 164 if the client's office is one of the small offices:"
   ]
  },
  {
   "cell_type": "code",
   "execution_count": 65,
   "id": "bd30e829",
   "metadata": {},
   "outputs": [],
   "source": [
    "# Carrega les oficines agrupades\n",
    "oficines_agrupades = pd.read_csv(\"oficines_agrupades.csv\")[\"oficina_agrupada\"].tolist()\n",
    "\n",
    "# Substitueix qualsevol oficina que estigui a la llista pel codi 164\n",
    "df_nou[\"oficina\"] = df_nou[\"oficina\"].apply(lambda x: 164 if x in oficines_agrupades else x)"
   ]
  },
  {
   "cell_type": "markdown",
   "id": "07bd8b18",
   "metadata": {},
   "source": [
    "If there are missing entries in the new data, the model won't work properly. Let's fix them the same way as during training:"
   ]
  },
  {
   "cell_type": "code",
   "execution_count": 66,
   "id": "19921039",
   "metadata": {},
   "outputs": [],
   "source": [
    "df_nou['edad'] = df_nou['edad'].fillna(38.727759)\n",
    "df_nou['salario'] = df_nou['salario'].fillna(3871.138544)\n",
    "df_nou['sexo'].fillna('Desconegut', inplace=True)\n",
    "df_nou['antiguedad_vehiculo'].fillna('Desconegut', inplace=True)"
   ]
  },
  {
   "cell_type": "markdown",
   "id": "a40a2ded",
   "metadata": {},
   "source": [
    "Maybe the new data doesn’t have all the categorical variables, which would cause the model to fail. These lines of code fix that:"
   ]
  },
  {
   "cell_type": "code",
   "execution_count": 67,
   "id": "243467e6",
   "metadata": {},
   "outputs": [],
   "source": [
    "def prepara_dades_noves(df_nou, columnes_entrenament):\n",
    "    \"\"\"\n",
    "    Afegeix les columnes que falten a df_nou perquè coincideixi amb les columnes d'entrenament.\n",
    "    \n",
    "    Paràmetres:\n",
    "    - df_nou: DataFrame amb les noves dades, ja amb get_dummies aplicat\n",
    "    - columnes_entrenament: Llista de columnes que s'esperen (les que té el model entrenat)\n",
    "\n",
    "    Retorna:\n",
    "    - df_nou: amb les columnes afegides i ordenades\n",
    "    \"\"\"\n",
    "    # Afegim les columnes que falten amb valors 0\n",
    "    for col in columnes_entrenament:\n",
    "        if col not in df_nou.columns:\n",
    "            df_nou[col] = 0\n",
    "\n",
    "    # Eliminem les columnes que no estaven a l'entrenament\n",
    "    df_nou = df_nou[columnes_entrenament]\n",
    "\n",
    "    return df_nou\n"
   ]
  },
  {
   "cell_type": "code",
   "execution_count": 68,
   "id": "38229960",
   "metadata": {},
   "outputs": [
    {
     "name": "stderr",
     "output_type": "stream",
     "text": [
      "C:\\Users\\Marc\\AppData\\Local\\Temp\\ipykernel_13268\\872921502.py:15: PerformanceWarning: DataFrame is highly fragmented.  This is usually the result of calling `frame.insert` many times, which has poor performance.  Consider joining all columns at once using pd.concat(axis=1) instead. To get a de-fragmented frame, use `newframe = frame.copy()`\n",
      "  df_nou[col] = 0\n",
      "C:\\Users\\Marc\\AppData\\Local\\Temp\\ipykernel_13268\\872921502.py:15: PerformanceWarning: DataFrame is highly fragmented.  This is usually the result of calling `frame.insert` many times, which has poor performance.  Consider joining all columns at once using pd.concat(axis=1) instead. To get a de-fragmented frame, use `newframe = frame.copy()`\n",
      "  df_nou[col] = 0\n",
      "C:\\Users\\Marc\\AppData\\Local\\Temp\\ipykernel_13268\\872921502.py:15: PerformanceWarning: DataFrame is highly fragmented.  This is usually the result of calling `frame.insert` many times, which has poor performance.  Consider joining all columns at once using pd.concat(axis=1) instead. To get a de-fragmented frame, use `newframe = frame.copy()`\n",
      "  df_nou[col] = 0\n",
      "C:\\Users\\Marc\\AppData\\Local\\Temp\\ipykernel_13268\\872921502.py:15: PerformanceWarning: DataFrame is highly fragmented.  This is usually the result of calling `frame.insert` many times, which has poor performance.  Consider joining all columns at once using pd.concat(axis=1) instead. To get a de-fragmented frame, use `newframe = frame.copy()`\n",
      "  df_nou[col] = 0\n",
      "C:\\Users\\Marc\\AppData\\Local\\Temp\\ipykernel_13268\\872921502.py:15: PerformanceWarning: DataFrame is highly fragmented.  This is usually the result of calling `frame.insert` many times, which has poor performance.  Consider joining all columns at once using pd.concat(axis=1) instead. To get a de-fragmented frame, use `newframe = frame.copy()`\n",
      "  df_nou[col] = 0\n",
      "C:\\Users\\Marc\\AppData\\Local\\Temp\\ipykernel_13268\\872921502.py:15: PerformanceWarning: DataFrame is highly fragmented.  This is usually the result of calling `frame.insert` many times, which has poor performance.  Consider joining all columns at once using pd.concat(axis=1) instead. To get a de-fragmented frame, use `newframe = frame.copy()`\n",
      "  df_nou[col] = 0\n",
      "C:\\Users\\Marc\\AppData\\Local\\Temp\\ipykernel_13268\\872921502.py:15: PerformanceWarning: DataFrame is highly fragmented.  This is usually the result of calling `frame.insert` many times, which has poor performance.  Consider joining all columns at once using pd.concat(axis=1) instead. To get a de-fragmented frame, use `newframe = frame.copy()`\n",
      "  df_nou[col] = 0\n",
      "C:\\Users\\Marc\\AppData\\Local\\Temp\\ipykernel_13268\\872921502.py:15: PerformanceWarning: DataFrame is highly fragmented.  This is usually the result of calling `frame.insert` many times, which has poor performance.  Consider joining all columns at once using pd.concat(axis=1) instead. To get a de-fragmented frame, use `newframe = frame.copy()`\n",
      "  df_nou[col] = 0\n",
      "C:\\Users\\Marc\\AppData\\Local\\Temp\\ipykernel_13268\\872921502.py:15: PerformanceWarning: DataFrame is highly fragmented.  This is usually the result of calling `frame.insert` many times, which has poor performance.  Consider joining all columns at once using pd.concat(axis=1) instead. To get a de-fragmented frame, use `newframe = frame.copy()`\n",
      "  df_nou[col] = 0\n",
      "C:\\Users\\Marc\\AppData\\Local\\Temp\\ipykernel_13268\\872921502.py:15: PerformanceWarning: DataFrame is highly fragmented.  This is usually the result of calling `frame.insert` many times, which has poor performance.  Consider joining all columns at once using pd.concat(axis=1) instead. To get a de-fragmented frame, use `newframe = frame.copy()`\n",
      "  df_nou[col] = 0\n",
      "C:\\Users\\Marc\\AppData\\Local\\Temp\\ipykernel_13268\\872921502.py:15: PerformanceWarning: DataFrame is highly fragmented.  This is usually the result of calling `frame.insert` many times, which has poor performance.  Consider joining all columns at once using pd.concat(axis=1) instead. To get a de-fragmented frame, use `newframe = frame.copy()`\n",
      "  df_nou[col] = 0\n",
      "C:\\Users\\Marc\\AppData\\Local\\Temp\\ipykernel_13268\\872921502.py:15: PerformanceWarning: DataFrame is highly fragmented.  This is usually the result of calling `frame.insert` many times, which has poor performance.  Consider joining all columns at once using pd.concat(axis=1) instead. To get a de-fragmented frame, use `newframe = frame.copy()`\n",
      "  df_nou[col] = 0\n",
      "C:\\Users\\Marc\\AppData\\Local\\Temp\\ipykernel_13268\\872921502.py:15: PerformanceWarning: DataFrame is highly fragmented.  This is usually the result of calling `frame.insert` many times, which has poor performance.  Consider joining all columns at once using pd.concat(axis=1) instead. To get a de-fragmented frame, use `newframe = frame.copy()`\n",
      "  df_nou[col] = 0\n",
      "C:\\Users\\Marc\\AppData\\Local\\Temp\\ipykernel_13268\\872921502.py:15: PerformanceWarning: DataFrame is highly fragmented.  This is usually the result of calling `frame.insert` many times, which has poor performance.  Consider joining all columns at once using pd.concat(axis=1) instead. To get a de-fragmented frame, use `newframe = frame.copy()`\n",
      "  df_nou[col] = 0\n",
      "C:\\Users\\Marc\\AppData\\Local\\Temp\\ipykernel_13268\\872921502.py:15: PerformanceWarning: DataFrame is highly fragmented.  This is usually the result of calling `frame.insert` many times, which has poor performance.  Consider joining all columns at once using pd.concat(axis=1) instead. To get a de-fragmented frame, use `newframe = frame.copy()`\n",
      "  df_nou[col] = 0\n",
      "C:\\Users\\Marc\\AppData\\Local\\Temp\\ipykernel_13268\\872921502.py:15: PerformanceWarning: DataFrame is highly fragmented.  This is usually the result of calling `frame.insert` many times, which has poor performance.  Consider joining all columns at once using pd.concat(axis=1) instead. To get a de-fragmented frame, use `newframe = frame.copy()`\n",
      "  df_nou[col] = 0\n",
      "C:\\Users\\Marc\\AppData\\Local\\Temp\\ipykernel_13268\\872921502.py:15: PerformanceWarning: DataFrame is highly fragmented.  This is usually the result of calling `frame.insert` many times, which has poor performance.  Consider joining all columns at once using pd.concat(axis=1) instead. To get a de-fragmented frame, use `newframe = frame.copy()`\n",
      "  df_nou[col] = 0\n",
      "C:\\Users\\Marc\\AppData\\Local\\Temp\\ipykernel_13268\\872921502.py:15: PerformanceWarning: DataFrame is highly fragmented.  This is usually the result of calling `frame.insert` many times, which has poor performance.  Consider joining all columns at once using pd.concat(axis=1) instead. To get a de-fragmented frame, use `newframe = frame.copy()`\n",
      "  df_nou[col] = 0\n",
      "C:\\Users\\Marc\\AppData\\Local\\Temp\\ipykernel_13268\\872921502.py:15: PerformanceWarning: DataFrame is highly fragmented.  This is usually the result of calling `frame.insert` many times, which has poor performance.  Consider joining all columns at once using pd.concat(axis=1) instead. To get a de-fragmented frame, use `newframe = frame.copy()`\n",
      "  df_nou[col] = 0\n",
      "C:\\Users\\Marc\\AppData\\Local\\Temp\\ipykernel_13268\\872921502.py:15: PerformanceWarning: DataFrame is highly fragmented.  This is usually the result of calling `frame.insert` many times, which has poor performance.  Consider joining all columns at once using pd.concat(axis=1) instead. To get a de-fragmented frame, use `newframe = frame.copy()`\n",
      "  df_nou[col] = 0\n",
      "C:\\Users\\Marc\\AppData\\Local\\Temp\\ipykernel_13268\\872921502.py:15: PerformanceWarning: DataFrame is highly fragmented.  This is usually the result of calling `frame.insert` many times, which has poor performance.  Consider joining all columns at once using pd.concat(axis=1) instead. To get a de-fragmented frame, use `newframe = frame.copy()`\n",
      "  df_nou[col] = 0\n",
      "C:\\Users\\Marc\\AppData\\Local\\Temp\\ipykernel_13268\\872921502.py:15: PerformanceWarning: DataFrame is highly fragmented.  This is usually the result of calling `frame.insert` many times, which has poor performance.  Consider joining all columns at once using pd.concat(axis=1) instead. To get a de-fragmented frame, use `newframe = frame.copy()`\n",
      "  df_nou[col] = 0\n",
      "C:\\Users\\Marc\\AppData\\Local\\Temp\\ipykernel_13268\\872921502.py:15: PerformanceWarning: DataFrame is highly fragmented.  This is usually the result of calling `frame.insert` many times, which has poor performance.  Consider joining all columns at once using pd.concat(axis=1) instead. To get a de-fragmented frame, use `newframe = frame.copy()`\n",
      "  df_nou[col] = 0\n",
      "C:\\Users\\Marc\\AppData\\Local\\Temp\\ipykernel_13268\\872921502.py:15: PerformanceWarning: DataFrame is highly fragmented.  This is usually the result of calling `frame.insert` many times, which has poor performance.  Consider joining all columns at once using pd.concat(axis=1) instead. To get a de-fragmented frame, use `newframe = frame.copy()`\n",
      "  df_nou[col] = 0\n",
      "C:\\Users\\Marc\\AppData\\Local\\Temp\\ipykernel_13268\\872921502.py:15: PerformanceWarning: DataFrame is highly fragmented.  This is usually the result of calling `frame.insert` many times, which has poor performance.  Consider joining all columns at once using pd.concat(axis=1) instead. To get a de-fragmented frame, use `newframe = frame.copy()`\n",
      "  df_nou[col] = 0\n",
      "C:\\Users\\Marc\\AppData\\Local\\Temp\\ipykernel_13268\\872921502.py:15: PerformanceWarning: DataFrame is highly fragmented.  This is usually the result of calling `frame.insert` many times, which has poor performance.  Consider joining all columns at once using pd.concat(axis=1) instead. To get a de-fragmented frame, use `newframe = frame.copy()`\n",
      "  df_nou[col] = 0\n",
      "C:\\Users\\Marc\\AppData\\Local\\Temp\\ipykernel_13268\\872921502.py:15: PerformanceWarning: DataFrame is highly fragmented.  This is usually the result of calling `frame.insert` many times, which has poor performance.  Consider joining all columns at once using pd.concat(axis=1) instead. To get a de-fragmented frame, use `newframe = frame.copy()`\n",
      "  df_nou[col] = 0\n",
      "C:\\Users\\Marc\\AppData\\Local\\Temp\\ipykernel_13268\\872921502.py:15: PerformanceWarning: DataFrame is highly fragmented.  This is usually the result of calling `frame.insert` many times, which has poor performance.  Consider joining all columns at once using pd.concat(axis=1) instead. To get a de-fragmented frame, use `newframe = frame.copy()`\n",
      "  df_nou[col] = 0\n",
      "C:\\Users\\Marc\\AppData\\Local\\Temp\\ipykernel_13268\\872921502.py:15: PerformanceWarning: DataFrame is highly fragmented.  This is usually the result of calling `frame.insert` many times, which has poor performance.  Consider joining all columns at once using pd.concat(axis=1) instead. To get a de-fragmented frame, use `newframe = frame.copy()`\n",
      "  df_nou[col] = 0\n",
      "C:\\Users\\Marc\\AppData\\Local\\Temp\\ipykernel_13268\\872921502.py:15: PerformanceWarning: DataFrame is highly fragmented.  This is usually the result of calling `frame.insert` many times, which has poor performance.  Consider joining all columns at once using pd.concat(axis=1) instead. To get a de-fragmented frame, use `newframe = frame.copy()`\n",
      "  df_nou[col] = 0\n",
      "C:\\Users\\Marc\\AppData\\Local\\Temp\\ipykernel_13268\\872921502.py:15: PerformanceWarning: DataFrame is highly fragmented.  This is usually the result of calling `frame.insert` many times, which has poor performance.  Consider joining all columns at once using pd.concat(axis=1) instead. To get a de-fragmented frame, use `newframe = frame.copy()`\n",
      "  df_nou[col] = 0\n",
      "C:\\Users\\Marc\\AppData\\Local\\Temp\\ipykernel_13268\\872921502.py:15: PerformanceWarning: DataFrame is highly fragmented.  This is usually the result of calling `frame.insert` many times, which has poor performance.  Consider joining all columns at once using pd.concat(axis=1) instead. To get a de-fragmented frame, use `newframe = frame.copy()`\n",
      "  df_nou[col] = 0\n",
      "C:\\Users\\Marc\\AppData\\Local\\Temp\\ipykernel_13268\\872921502.py:15: PerformanceWarning: DataFrame is highly fragmented.  This is usually the result of calling `frame.insert` many times, which has poor performance.  Consider joining all columns at once using pd.concat(axis=1) instead. To get a de-fragmented frame, use `newframe = frame.copy()`\n",
      "  df_nou[col] = 0\n",
      "C:\\Users\\Marc\\AppData\\Local\\Temp\\ipykernel_13268\\872921502.py:15: PerformanceWarning: DataFrame is highly fragmented.  This is usually the result of calling `frame.insert` many times, which has poor performance.  Consider joining all columns at once using pd.concat(axis=1) instead. To get a de-fragmented frame, use `newframe = frame.copy()`\n",
      "  df_nou[col] = 0\n",
      "C:\\Users\\Marc\\AppData\\Local\\Temp\\ipykernel_13268\\872921502.py:15: PerformanceWarning: DataFrame is highly fragmented.  This is usually the result of calling `frame.insert` many times, which has poor performance.  Consider joining all columns at once using pd.concat(axis=1) instead. To get a de-fragmented frame, use `newframe = frame.copy()`\n",
      "  df_nou[col] = 0\n",
      "C:\\Users\\Marc\\AppData\\Local\\Temp\\ipykernel_13268\\872921502.py:15: PerformanceWarning: DataFrame is highly fragmented.  This is usually the result of calling `frame.insert` many times, which has poor performance.  Consider joining all columns at once using pd.concat(axis=1) instead. To get a de-fragmented frame, use `newframe = frame.copy()`\n",
      "  df_nou[col] = 0\n",
      "C:\\Users\\Marc\\AppData\\Local\\Temp\\ipykernel_13268\\872921502.py:15: PerformanceWarning: DataFrame is highly fragmented.  This is usually the result of calling `frame.insert` many times, which has poor performance.  Consider joining all columns at once using pd.concat(axis=1) instead. To get a de-fragmented frame, use `newframe = frame.copy()`\n",
      "  df_nou[col] = 0\n",
      "C:\\Users\\Marc\\AppData\\Local\\Temp\\ipykernel_13268\\872921502.py:15: PerformanceWarning: DataFrame is highly fragmented.  This is usually the result of calling `frame.insert` many times, which has poor performance.  Consider joining all columns at once using pd.concat(axis=1) instead. To get a de-fragmented frame, use `newframe = frame.copy()`\n",
      "  df_nou[col] = 0\n",
      "C:\\Users\\Marc\\AppData\\Local\\Temp\\ipykernel_13268\\872921502.py:15: PerformanceWarning: DataFrame is highly fragmented.  This is usually the result of calling `frame.insert` many times, which has poor performance.  Consider joining all columns at once using pd.concat(axis=1) instead. To get a de-fragmented frame, use `newframe = frame.copy()`\n",
      "  df_nou[col] = 0\n",
      "C:\\Users\\Marc\\AppData\\Local\\Temp\\ipykernel_13268\\872921502.py:15: PerformanceWarning: DataFrame is highly fragmented.  This is usually the result of calling `frame.insert` many times, which has poor performance.  Consider joining all columns at once using pd.concat(axis=1) instead. To get a de-fragmented frame, use `newframe = frame.copy()`\n",
      "  df_nou[col] = 0\n",
      "C:\\Users\\Marc\\AppData\\Local\\Temp\\ipykernel_13268\\872921502.py:15: PerformanceWarning: DataFrame is highly fragmented.  This is usually the result of calling `frame.insert` many times, which has poor performance.  Consider joining all columns at once using pd.concat(axis=1) instead. To get a de-fragmented frame, use `newframe = frame.copy()`\n",
      "  df_nou[col] = 0\n",
      "C:\\Users\\Marc\\AppData\\Local\\Temp\\ipykernel_13268\\872921502.py:15: PerformanceWarning: DataFrame is highly fragmented.  This is usually the result of calling `frame.insert` many times, which has poor performance.  Consider joining all columns at once using pd.concat(axis=1) instead. To get a de-fragmented frame, use `newframe = frame.copy()`\n",
      "  df_nou[col] = 0\n",
      "C:\\Users\\Marc\\AppData\\Local\\Temp\\ipykernel_13268\\872921502.py:15: PerformanceWarning: DataFrame is highly fragmented.  This is usually the result of calling `frame.insert` many times, which has poor performance.  Consider joining all columns at once using pd.concat(axis=1) instead. To get a de-fragmented frame, use `newframe = frame.copy()`\n",
      "  df_nou[col] = 0\n",
      "C:\\Users\\Marc\\AppData\\Local\\Temp\\ipykernel_13268\\872921502.py:15: PerformanceWarning: DataFrame is highly fragmented.  This is usually the result of calling `frame.insert` many times, which has poor performance.  Consider joining all columns at once using pd.concat(axis=1) instead. To get a de-fragmented frame, use `newframe = frame.copy()`\n",
      "  df_nou[col] = 0\n",
      "C:\\Users\\Marc\\AppData\\Local\\Temp\\ipykernel_13268\\872921502.py:15: PerformanceWarning: DataFrame is highly fragmented.  This is usually the result of calling `frame.insert` many times, which has poor performance.  Consider joining all columns at once using pd.concat(axis=1) instead. To get a de-fragmented frame, use `newframe = frame.copy()`\n",
      "  df_nou[col] = 0\n",
      "C:\\Users\\Marc\\AppData\\Local\\Temp\\ipykernel_13268\\872921502.py:15: PerformanceWarning: DataFrame is highly fragmented.  This is usually the result of calling `frame.insert` many times, which has poor performance.  Consider joining all columns at once using pd.concat(axis=1) instead. To get a de-fragmented frame, use `newframe = frame.copy()`\n",
      "  df_nou[col] = 0\n",
      "C:\\Users\\Marc\\AppData\\Local\\Temp\\ipykernel_13268\\872921502.py:15: PerformanceWarning: DataFrame is highly fragmented.  This is usually the result of calling `frame.insert` many times, which has poor performance.  Consider joining all columns at once using pd.concat(axis=1) instead. To get a de-fragmented frame, use `newframe = frame.copy()`\n",
      "  df_nou[col] = 0\n",
      "C:\\Users\\Marc\\AppData\\Local\\Temp\\ipykernel_13268\\872921502.py:15: PerformanceWarning: DataFrame is highly fragmented.  This is usually the result of calling `frame.insert` many times, which has poor performance.  Consider joining all columns at once using pd.concat(axis=1) instead. To get a de-fragmented frame, use `newframe = frame.copy()`\n",
      "  df_nou[col] = 0\n"
     ]
    }
   ],
   "source": [
    "# Llegir les columnes del model\n",
    "columnes_entrenament = pd.read_csv(\"columnes_model.csv\")[\"columna\"].tolist()\n",
    "\n",
    "# Columnes correcte:\n",
    "df_nou = pd.get_dummies(df_nou)  # transformar les categoríques com vas fer en l'entrenament\n",
    "df_nou = prepara_dades_noves(df_nou, columnes_entrenament)"
   ]
  },
  {
   "cell_type": "code",
   "execution_count": 69,
   "id": "f1384e9c",
   "metadata": {},
   "outputs": [
    {
     "name": "stdout",
     "output_type": "stream",
     "text": [
      "Fitxer guardat com 'noves_dades_amb_prediccions.csv'\n"
     ]
    },
    {
     "name": "stderr",
     "output_type": "stream",
     "text": [
      "C:\\Users\\Marc\\AppData\\Local\\Temp\\ipykernel_13268\\3505266431.py:5: PerformanceWarning: DataFrame is highly fragmented.  This is usually the result of calling `frame.insert` many times, which has poor performance.  Consider joining all columns at once using pd.concat(axis=1) instead. To get a de-fragmented frame, use `newframe = frame.copy()`\n",
      "  df_nou[\"prediccio_model\"] = prediccions\n"
     ]
    }
   ],
   "source": [
    "# Obtenir prediccions\n",
    "prediccions = model_carregat.predict(df_nou)\n",
    "\n",
    "# Afegir les prediccions al DataFrame original\n",
    "df_nou[\"prediccio_model\"] = prediccions\n",
    "\n",
    "# Guardar a un nou fitxer CSV\n",
    "df_nou.to_csv(\"noves_dades_amb_prediccions.csv\", index=False)\n",
    "\n",
    "print(\"Fitxer guardat com 'noves_dades_amb_prediccions.csv'\")"
   ]
  },
  {
   "cell_type": "markdown",
   "id": "33dd0788",
   "metadata": {},
   "source": [
    "If what we want is to evaluate the model with already prepared data, we need to apply this code **after** defining the training columns:\n",
    "(Note that if you try to run all the cells together, it will give an error because applying both at the same time isn’t compatible as currently designed)"
   ]
  },
  {
   "cell_type": "code",
   "execution_count": 70,
   "id": "3fcffd56",
   "metadata": {},
   "outputs": [
    {
     "ename": "KeyError",
     "evalue": "\"['respuesta'] not found in axis\"",
     "output_type": "error",
     "traceback": [
      "\u001b[1;31m---------------------------------------------------------------------------\u001b[0m",
      "\u001b[1;31mKeyError\u001b[0m                                  Traceback (most recent call last)",
      "Cell \u001b[1;32mIn[70], line 1\u001b[0m\n\u001b[1;32m----> 1\u001b[0m X \u001b[38;5;241m=\u001b[39m df_nou\u001b[38;5;241m.\u001b[39mdrop(columns\u001b[38;5;241m=\u001b[39m\u001b[38;5;124m'\u001b[39m\u001b[38;5;124mrespuesta\u001b[39m\u001b[38;5;124m'\u001b[39m)             \n\u001b[0;32m      2\u001b[0m y \u001b[38;5;241m=\u001b[39m df_nou[\u001b[38;5;124m'\u001b[39m\u001b[38;5;124mrespuesta\u001b[39m\u001b[38;5;124m'\u001b[39m] \n\u001b[0;32m      4\u001b[0m X \u001b[38;5;241m=\u001b[39m pd\u001b[38;5;241m.\u001b[39mget_dummies(X)  \u001b[38;5;66;03m# transformar les categoríques com vas fer en l'entrenament\u001b[39;00m\n",
      "File \u001b[1;32mc:\\Users\\Marc\\anaconda3\\Lib\\site-packages\\pandas\\core\\frame.py:5258\u001b[0m, in \u001b[0;36mDataFrame.drop\u001b[1;34m(self, labels, axis, index, columns, level, inplace, errors)\u001b[0m\n\u001b[0;32m   5110\u001b[0m \u001b[38;5;28;01mdef\u001b[39;00m \u001b[38;5;21mdrop\u001b[39m(\n\u001b[0;32m   5111\u001b[0m     \u001b[38;5;28mself\u001b[39m,\n\u001b[0;32m   5112\u001b[0m     labels: IndexLabel \u001b[38;5;241m=\u001b[39m \u001b[38;5;28;01mNone\u001b[39;00m,\n\u001b[1;32m   (...)\u001b[0m\n\u001b[0;32m   5119\u001b[0m     errors: IgnoreRaise \u001b[38;5;241m=\u001b[39m \u001b[38;5;124m\"\u001b[39m\u001b[38;5;124mraise\u001b[39m\u001b[38;5;124m\"\u001b[39m,\n\u001b[0;32m   5120\u001b[0m ) \u001b[38;5;241m-\u001b[39m\u001b[38;5;241m>\u001b[39m DataFrame \u001b[38;5;241m|\u001b[39m \u001b[38;5;28;01mNone\u001b[39;00m:\n\u001b[0;32m   5121\u001b[0m \u001b[38;5;250m    \u001b[39m\u001b[38;5;124;03m\"\"\"\u001b[39;00m\n\u001b[0;32m   5122\u001b[0m \u001b[38;5;124;03m    Drop specified labels from rows or columns.\u001b[39;00m\n\u001b[0;32m   5123\u001b[0m \n\u001b[1;32m   (...)\u001b[0m\n\u001b[0;32m   5256\u001b[0m \u001b[38;5;124;03m            weight  1.0     0.8\u001b[39;00m\n\u001b[0;32m   5257\u001b[0m \u001b[38;5;124;03m    \"\"\"\u001b[39;00m\n\u001b[1;32m-> 5258\u001b[0m     \u001b[38;5;28;01mreturn\u001b[39;00m \u001b[38;5;28msuper\u001b[39m()\u001b[38;5;241m.\u001b[39mdrop(\n\u001b[0;32m   5259\u001b[0m         labels\u001b[38;5;241m=\u001b[39mlabels,\n\u001b[0;32m   5260\u001b[0m         axis\u001b[38;5;241m=\u001b[39maxis,\n\u001b[0;32m   5261\u001b[0m         index\u001b[38;5;241m=\u001b[39mindex,\n\u001b[0;32m   5262\u001b[0m         columns\u001b[38;5;241m=\u001b[39mcolumns,\n\u001b[0;32m   5263\u001b[0m         level\u001b[38;5;241m=\u001b[39mlevel,\n\u001b[0;32m   5264\u001b[0m         inplace\u001b[38;5;241m=\u001b[39minplace,\n\u001b[0;32m   5265\u001b[0m         errors\u001b[38;5;241m=\u001b[39merrors,\n\u001b[0;32m   5266\u001b[0m     )\n",
      "File \u001b[1;32mc:\\Users\\Marc\\anaconda3\\Lib\\site-packages\\pandas\\core\\generic.py:4549\u001b[0m, in \u001b[0;36mNDFrame.drop\u001b[1;34m(self, labels, axis, index, columns, level, inplace, errors)\u001b[0m\n\u001b[0;32m   4547\u001b[0m \u001b[38;5;28;01mfor\u001b[39;00m axis, labels \u001b[38;5;129;01min\u001b[39;00m axes\u001b[38;5;241m.\u001b[39mitems():\n\u001b[0;32m   4548\u001b[0m     \u001b[38;5;28;01mif\u001b[39;00m labels \u001b[38;5;129;01mis\u001b[39;00m \u001b[38;5;129;01mnot\u001b[39;00m \u001b[38;5;28;01mNone\u001b[39;00m:\n\u001b[1;32m-> 4549\u001b[0m         obj \u001b[38;5;241m=\u001b[39m obj\u001b[38;5;241m.\u001b[39m_drop_axis(labels, axis, level\u001b[38;5;241m=\u001b[39mlevel, errors\u001b[38;5;241m=\u001b[39merrors)\n\u001b[0;32m   4551\u001b[0m \u001b[38;5;28;01mif\u001b[39;00m inplace:\n\u001b[0;32m   4552\u001b[0m     \u001b[38;5;28mself\u001b[39m\u001b[38;5;241m.\u001b[39m_update_inplace(obj)\n",
      "File \u001b[1;32mc:\\Users\\Marc\\anaconda3\\Lib\\site-packages\\pandas\\core\\generic.py:4591\u001b[0m, in \u001b[0;36mNDFrame._drop_axis\u001b[1;34m(self, labels, axis, level, errors, only_slice)\u001b[0m\n\u001b[0;32m   4589\u001b[0m         new_axis \u001b[38;5;241m=\u001b[39m axis\u001b[38;5;241m.\u001b[39mdrop(labels, level\u001b[38;5;241m=\u001b[39mlevel, errors\u001b[38;5;241m=\u001b[39merrors)\n\u001b[0;32m   4590\u001b[0m     \u001b[38;5;28;01melse\u001b[39;00m:\n\u001b[1;32m-> 4591\u001b[0m         new_axis \u001b[38;5;241m=\u001b[39m axis\u001b[38;5;241m.\u001b[39mdrop(labels, errors\u001b[38;5;241m=\u001b[39merrors)\n\u001b[0;32m   4592\u001b[0m     indexer \u001b[38;5;241m=\u001b[39m axis\u001b[38;5;241m.\u001b[39mget_indexer(new_axis)\n\u001b[0;32m   4594\u001b[0m \u001b[38;5;66;03m# Case for non-unique axis\u001b[39;00m\n\u001b[0;32m   4595\u001b[0m \u001b[38;5;28;01melse\u001b[39;00m:\n",
      "File \u001b[1;32mc:\\Users\\Marc\\anaconda3\\Lib\\site-packages\\pandas\\core\\indexes\\base.py:6699\u001b[0m, in \u001b[0;36mIndex.drop\u001b[1;34m(self, labels, errors)\u001b[0m\n\u001b[0;32m   6697\u001b[0m \u001b[38;5;28;01mif\u001b[39;00m mask\u001b[38;5;241m.\u001b[39many():\n\u001b[0;32m   6698\u001b[0m     \u001b[38;5;28;01mif\u001b[39;00m errors \u001b[38;5;241m!=\u001b[39m \u001b[38;5;124m\"\u001b[39m\u001b[38;5;124mignore\u001b[39m\u001b[38;5;124m\"\u001b[39m:\n\u001b[1;32m-> 6699\u001b[0m         \u001b[38;5;28;01mraise\u001b[39;00m \u001b[38;5;167;01mKeyError\u001b[39;00m(\u001b[38;5;124mf\u001b[39m\u001b[38;5;124m\"\u001b[39m\u001b[38;5;132;01m{\u001b[39;00m\u001b[38;5;28mlist\u001b[39m(labels[mask])\u001b[38;5;132;01m}\u001b[39;00m\u001b[38;5;124m not found in axis\u001b[39m\u001b[38;5;124m\"\u001b[39m)\n\u001b[0;32m   6700\u001b[0m     indexer \u001b[38;5;241m=\u001b[39m indexer[\u001b[38;5;241m~\u001b[39mmask]\n\u001b[0;32m   6701\u001b[0m \u001b[38;5;28;01mreturn\u001b[39;00m \u001b[38;5;28mself\u001b[39m\u001b[38;5;241m.\u001b[39mdelete(indexer)\n",
      "\u001b[1;31mKeyError\u001b[0m: \"['respuesta'] not found in axis\""
     ]
    }
   ],
   "source": [
    "X = df_nou.drop(columns='respuesta')             \n",
    "y = df_nou['respuesta'] \n",
    "\n",
    "X = pd.get_dummies(X)  # transformar les categoríques com vas fer en l'entrenament\n",
    "X = prepara_dades_noves(X, columnes_entrenament)\n",
    "prediccions = model_carregat.predict(X)\n",
    "\n",
    "from sklearn.metrics import classification_report, confusion_matrix, accuracy_score\n",
    "\n",
    "print(\"Accuracy:\", accuracy_score(y, prediccions))\n",
    "print(\"Matriz de confusió:\")\n",
    "print(confusion_matrix(y, prediccions))\n",
    "print(\"Informe de classificació:\")\n",
    "print(classification_report(y, prediccions))"
   ]
  }
 ],
 "metadata": {
  "kernelspec": {
   "display_name": "base",
   "language": "python",
   "name": "python3"
  },
  "language_info": {
   "codemirror_mode": {
    "name": "ipython",
    "version": 3
   },
   "file_extension": ".py",
   "mimetype": "text/x-python",
   "name": "python",
   "nbconvert_exporter": "python",
   "pygments_lexer": "ipython3",
   "version": "3.11.5"
  }
 },
 "nbformat": 4,
 "nbformat_minor": 5
}
